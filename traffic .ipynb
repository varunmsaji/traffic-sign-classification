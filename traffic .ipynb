{
 "cells": [
  {
   "cell_type": "code",
   "execution_count": 1,
   "id": "ad69db8e-89a8-4802-b738-62dfb2001987",
   "metadata": {
    "tags": []
   },
   "outputs": [],
   "source": [
    "# Importing libraries\n",
    "import os\n",
    "import pandas as pd\n",
    "import numpy as np\n",
    "import matplotlib.pyplot as plt\n",
    "from matplotlib.image import imread\n",
    "import seaborn as sns\n",
    "import random\n",
    "from PIL import Image\n",
    "from sklearn.model_selection import  train_test_split\n",
    "from tensorflow.keras.utils import to_categorical\n",
    "import tensorflow as tf\n",
    "from tensorflow.keras.models import Sequential\n",
    "from tensorflow.keras.layers import Dense, Flatten, Dropout, Conv2D, MaxPool2D"
   ]
  },
  {
   "cell_type": "code",
   "execution_count": 7,
   "id": "8f06ff4b-f9b0-4ee0-99d5-59362dec462b",
   "metadata": {
    "tags": []
   },
   "outputs": [],
   "source": [
    "images=[]\n",
    "label_id =[]\n",
    "for i in range(43):\n",
    "    labels ='myData'+'/{0}'.format(i)\n",
    "    image_path = os.listdir(labels)\n",
    "    for x in image_path:\n",
    "        img = Image.open(labels + '/' + x)\n",
    "        img = img.resize((50,50))\n",
    "        img = np.array(img)\n",
    "        images.append(img)\n",
    "        label_id.append(i)"
   ]
  },
  {
   "cell_type": "code",
   "execution_count": 10,
   "id": "11061160-3d43-4b31-a77d-6844f789543f",
   "metadata": {
    "tags": []
   },
   "outputs": [],
   "source": [
    "images = np.array(images)\n"
   ]
  },
  {
   "cell_type": "code",
   "execution_count": 11,
   "id": "52cffaf8-9b69-4459-a3df-2820f8148621",
   "metadata": {
    "tags": []
   },
   "outputs": [],
   "source": [
    "images = images/255 "
   ]
  },
  {
   "cell_type": "code",
   "execution_count": 12,
   "id": "41476d69-3165-4749-854d-e75fd4886f54",
   "metadata": {
    "tags": []
   },
   "outputs": [
    {
     "data": {
      "text/plain": [
       "(34799,)"
      ]
     },
     "execution_count": 12,
     "metadata": {},
     "output_type": "execute_result"
    }
   ],
   "source": [
    "label_id = np.array(label_id)\n",
    "label_id.shape"
   ]
  },
  {
   "cell_type": "code",
   "execution_count": 13,
   "id": "dc0259f0-8bf5-4bda-af8e-3820989befa3",
   "metadata": {
    "tags": []
   },
   "outputs": [
    {
     "data": {
      "text/plain": [
       "(34799, 50, 50, 3)"
      ]
     },
     "execution_count": 13,
     "metadata": {},
     "output_type": "execute_result"
    }
   ],
   "source": [
    "images.shape"
   ]
  },
  {
   "cell_type": "code",
   "execution_count": 14,
   "id": "6b2860d9-4786-4b5c-858d-21cf7a3b8e4d",
   "metadata": {
    "tags": []
   },
   "outputs": [
    {
     "data": {
      "text/plain": [
       "2     2010\n",
       "1     1980\n",
       "13    1920\n",
       "12    1890\n",
       "38    1860\n",
       "Name: count, dtype: int64"
      ]
     },
     "execution_count": 14,
     "metadata": {},
     "output_type": "execute_result"
    }
   ],
   "source": [
    "# Visualize the number of classes count\n",
    "label_counts = pd.DataFrame(label_id).value_counts()\n",
    "label_counts.head()"
   ]
  },
  {
   "cell_type": "code",
   "execution_count": 15,
   "id": "962e0f5e-3fe8-462b-b887-d120d19e2b9d",
   "metadata": {
    "tags": []
   },
   "outputs": [],
   "source": [
    "x_train, x_val, y_train, y_val = train_test_split(images, label_id , test_size = 0.2, random_state = 42)"
   ]
  },
  {
   "cell_type": "code",
   "execution_count": 16,
   "id": "b6888921-089d-43c4-858d-f1dbdb18854f",
   "metadata": {
    "tags": []
   },
   "outputs": [],
   "source": [
    "#keras has a built-in function for one-hot encoding.\n",
    "y_train_cat = to_categorical(y_train)\n",
    "y_val_cat = to_categorical(y_val)"
   ]
  },
  {
   "cell_type": "code",
   "execution_count": 17,
   "id": "0713a845-ecbe-4189-9974-0caab2e44f6b",
   "metadata": {
    "tags": []
   },
   "outputs": [],
   "source": [
    "model = Sequential()\n",
    "\n",
    "model.add(Conv2D(filters = 64, kernel_size = (3,3), input_shape = x_train.shape[1:], activation = 'relu', padding = 'same'))\n",
    "model.add(MaxPool2D(pool_size=(2,2)))\n",
    "model.add(Dropout(0.5))\n",
    "\n",
    "model.add(Conv2D(filters = 64, kernel_size = (3,3), activation = 'relu'))\n",
    "model.add(MaxPool2D(pool_size=(2,2)))\n",
    "model.add(Dropout(0.5))\n",
    "\n",
    "model.add(Flatten())\n",
    "model.add(Dense(128, activation = 'relu'))\n",
    "model.add(Dropout(0.5))\n",
    "model.add(Dense(43, activation = 'softmax'))"
   ]
  },
  {
   "cell_type": "code",
   "execution_count": 18,
   "id": "ad123754-be59-49ea-ac5c-2447449ce248",
   "metadata": {
    "tags": []
   },
   "outputs": [
    {
     "name": "stdout",
     "output_type": "stream",
     "text": [
      "Model: \"sequential\"\n",
      "_________________________________________________________________\n",
      " Layer (type)                Output Shape              Param #   \n",
      "=================================================================\n",
      " conv2d (Conv2D)             (None, 50, 50, 64)        1792      \n",
      "                                                                 \n",
      " max_pooling2d (MaxPooling2D  (None, 25, 25, 64)       0         \n",
      " )                                                               \n",
      "                                                                 \n",
      " dropout (Dropout)           (None, 25, 25, 64)        0         \n",
      "                                                                 \n",
      " conv2d_1 (Conv2D)           (None, 23, 23, 64)        36928     \n",
      "                                                                 \n",
      " max_pooling2d_1 (MaxPooling  (None, 11, 11, 64)       0         \n",
      " 2D)                                                             \n",
      "                                                                 \n",
      " dropout_1 (Dropout)         (None, 11, 11, 64)        0         \n",
      "                                                                 \n",
      " flatten (Flatten)           (None, 7744)              0         \n",
      "                                                                 \n",
      " dense (Dense)               (None, 128)               991360    \n",
      "                                                                 \n",
      " dropout_2 (Dropout)         (None, 128)               0         \n",
      "                                                                 \n",
      " dense_1 (Dense)             (None, 43)                5547      \n",
      "                                                                 \n",
      "=================================================================\n",
      "Total params: 1,035,627\n",
      "Trainable params: 1,035,627\n",
      "Non-trainable params: 0\n",
      "_________________________________________________________________\n"
     ]
    }
   ],
   "source": [
    "model.compile(loss = 'sparse_categorical_crossentropy', optimizer = 'adam', metrics = ['accuracy'])\n",
    "model.summary()"
   ]
  },
  {
   "cell_type": "code",
   "execution_count": 19,
   "id": "5a03ba75-649e-42ae-b9ff-8432f033551a",
   "metadata": {
    "tags": []
   },
   "outputs": [
    {
     "name": "stdout",
     "output_type": "stream",
     "text": [
      "Epoch 1/10\n",
      "218/218 - 5s - loss: 2.5098 - accuracy: 0.3152 - val_loss: 1.3516 - val_accuracy: 0.6496 - 5s/epoch - 22ms/step\n",
      "Epoch 2/10\n",
      "218/218 - 2s - loss: 1.2476 - accuracy: 0.6139 - val_loss: 0.5911 - val_accuracy: 0.8682 - 2s/epoch - 8ms/step\n",
      "Epoch 3/10\n",
      "218/218 - 2s - loss: 0.8080 - accuracy: 0.7420 - val_loss: 0.3592 - val_accuracy: 0.9316 - 2s/epoch - 8ms/step\n",
      "Epoch 4/10\n",
      "218/218 - 2s - loss: 0.6037 - accuracy: 0.8074 - val_loss: 0.2300 - val_accuracy: 0.9572 - 2s/epoch - 8ms/step\n",
      "Epoch 5/10\n",
      "218/218 - 2s - loss: 0.5001 - accuracy: 0.8398 - val_loss: 0.1852 - val_accuracy: 0.9635 - 2s/epoch - 8ms/step\n",
      "Epoch 6/10\n",
      "218/218 - 2s - loss: 0.4235 - accuracy: 0.8674 - val_loss: 0.1278 - val_accuracy: 0.9764 - 2s/epoch - 8ms/step\n",
      "Epoch 7/10\n",
      "218/218 - 2s - loss: 0.3677 - accuracy: 0.8828 - val_loss: 0.1004 - val_accuracy: 0.9820 - 2s/epoch - 8ms/step\n",
      "Epoch 8/10\n",
      "218/218 - 2s - loss: 0.3324 - accuracy: 0.8931 - val_loss: 0.0904 - val_accuracy: 0.9793 - 2s/epoch - 8ms/step\n",
      "Epoch 9/10\n",
      "218/218 - 2s - loss: 0.3043 - accuracy: 0.9046 - val_loss: 0.0690 - val_accuracy: 0.9853 - 2s/epoch - 8ms/step\n",
      "Epoch 10/10\n",
      "218/218 - 2s - loss: 0.2751 - accuracy: 0.9112 - val_loss: 0.0672 - val_accuracy: 0.9866 - 2s/epoch - 8ms/step\n"
     ]
    },
    {
     "data": {
      "text/plain": [
       "<keras.callbacks.History at 0x248df3ce250>"
      ]
     },
     "execution_count": 19,
     "metadata": {},
     "output_type": "execute_result"
    }
   ],
   "source": [
    "model.fit(x_train, y_train, epochs = 10, batch_size = 128, validation_data = (x_val, y_val), verbose = 2)"
   ]
  },
  {
   "cell_type": "code",
   "execution_count": 20,
   "id": "2eeb2522-12db-438e-a284-a0dd1b12dfb9",
   "metadata": {
    "tags": []
   },
   "outputs": [
    {
     "data": {
      "text/plain": [
       "<Axes: >"
      ]
     },
     "execution_count": 20,
     "metadata": {},
     "output_type": "execute_result"
    },
    {
     "data": {
      "image/png": "[encoded data removed]",
      "text/plain": [
       "<Figure size 640x480 with 1 Axes>"
      ]
     },
     "metadata": {},
     "output_type": "display_data"
    },
    {
     "data": {
      "image/png": "[encoded data removed]",
      "text/plain": [
       "<Figure size 640x480 with 1 Axes>"
      ]
     },
     "metadata": {},
     "output_type": "display_data"
    }
   ],
   "source": [
    "evaluation = pd.DataFrame(model.history.history)\n",
    "evaluation[['accuracy', 'val_accuracy']].plot()\n",
    "evaluation[['loss', 'val_loss']].plot()"
   ]
  },
  {
   "cell_type": "code",
   "execution_count": 21,
   "id": "ef2afb05-754d-486d-bed7-b121c4711afa",
   "metadata": {
    "tags": []
   },
   "outputs": [],
   "source": [
    "model.save('traffic.h5')"
   ]
  },
  {
   "cell_type": "code",
   "execution_count": 23,
   "id": "f2ba20b5-29e1-4bed-b4be-45819624f57b",
   "metadata": {
    "tags": []
   },
   "outputs": [],
   "source": [
    "from tensorflow import keras\n",
    "load_model = keras.models.load_model('traffic.h5')"
   ]
  },
  {
   "cell_type": "code",
   "execution_count": 24,
   "id": "ae7e689b-c010-4b4d-9c57-84922793d170",
   "metadata": {
    "tags": []
   },
   "outputs": [],
   "source": [
    "image_path = 'traffictest.jpg'"
   ]
  },
  {
   "cell_type": "code",
   "execution_count": 28,
   "id": "9a7fdc97-08d2-4d7f-9add-3aa8df79791f",
   "metadata": {
    "tags": []
   },
   "outputs": [],
   "source": [
    "from tensorflow.keras.preprocessing import image"
   ]
  },
  {
   "cell_type": "code",
   "execution_count": 29,
   "id": "89dfca77-f9a7-41d5-893e-51761ee49e8d",
   "metadata": {
    "tags": []
   },
   "outputs": [],
   "source": [
    "img = image.load_img(image_path,target_size=(50,50))\n",
    "img_array = image.img_to_array(img)\n",
    "img_array = np.expand_dims(img_array,axis=0)\n",
    "img_array = img_array /255.0"
   ]
  },
  {
   "cell_type": "code",
   "execution_count": 30,
   "id": "2ed39e74-13bd-42f9-ba65-c8a2ca78288e",
   "metadata": {
    "tags": []
   },
   "outputs": [
    {
     "name": "stdout",
     "output_type": "stream",
     "text": [
      "1/1 [==============================] - 0s 162ms/step\n"
     ]
    }
   ],
   "source": [
    "result = load_model.predict(img_array)"
   ]
  },
  {
   "cell_type": "code",
   "execution_count": 32,
   "id": "db9e344b-e413-4c92-b399-2f9156e7a8ca",
   "metadata": {
    "tags": []
   },
   "outputs": [
    {
     "data": {
      "text/plain": [
       "28"
      ]
     },
     "execution_count": 32,
     "metadata": {},
     "output_type": "execute_result"
    }
   ],
   "source": [
    "np.argmax(result)"
   ]
  },
  {
   "cell_type": "code",
   "execution_count": 33,
   "id": "a6bb0ec5-ae77-4ded-a397-9bae249c8b8d",
   "metadata": {
    "tags": []
   },
   "outputs": [],
   "source": [
    "all_lables = ['Speed limit (20km/h)','Speed limit (30km/h)','Speed limit (50km/h)','Speed limit (60km/h)',\n",
    "              'Speed limit (70km/h)','Speed limit (80km/h)','End of speed limit (80km/h)','Speed limit (100km/h)',\n",
    "              'Speed limit (120km/h)','No passing','No passing for vechiles over 3.5 metric tons',\n",
    "              'Right-of-way at the next intersection','Priority road','Yield','Stop','No vechiles',\n",
    "              'Vechiles over 3.5 metric tons prohibited','No entry','General caution','Dangerous curve to the left',\n",
    "              'Dangerous curve to the right','Double curve','Bumpy road','Slippery road','Road narrows on the right',\n",
    "              'Road work','Traffic signals','Pedestrians','Children crossing','Bicycles crossing','Beware of ice/snow',\n",
    "              'Wild animals crossing','End of all speed and passing limits','Turn right ahead','Turn left ahead',\n",
    "              'Ahead only','Go straight or right','Go straight or left','Keep right','Keep left','Roundabout mandatory',\n",
    "              'End of no passing','End of no passing by vechiles over 3.5 metric']"
   ]
  },
  {
   "cell_type": "code",
   "execution_count": 35,
   "id": "484f8766-a1e5-4828-86cf-5aacbffa43c2",
   "metadata": {
    "tags": []
   },
   "outputs": [
    {
     "data": {
      "text/plain": [
       "'Children crossing'"
      ]
     },
     "execution_count": 35,
     "metadata": {},
     "output_type": "execute_result"
    }
   ],
   "source": [
    "all_lables[28]"
   ]
  },
  {
   "cell_type": "code",
   "execution_count": null,
   "id": "8e55fd4d-c2f8-4a84-b966-d4949c843e92",
   "metadata": {},
   "outputs": [],
   "source": []
  }
 ],
 "metadata": {
  "kernelspec": {
   "display_name": "tensor",
   "language": "python",
   "name": "tensor"
  },
  "language_info": {
   "codemirror_mode": {
    "name": "ipython",
    "version": 3
   },
   "file_extension": ".py",
   "mimetype": "text/x-python",
   "name": "python",
   "nbconvert_exporter": "python",
   "pygments_lexer": "ipython3",
   "version": "3.9.18"
  }
 },
 "nbformat": 4,
 "nbformat_minor": 5
}
